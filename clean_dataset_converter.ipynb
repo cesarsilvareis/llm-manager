{
 "cells": [
  {
   "cell_type": "code",
   "execution_count": 6,
   "metadata": {},
   "outputs": [
    {
     "data": {
      "text/plain": [
       "DatasetDict({\n",
       "    train: Dataset({\n",
       "        features: ['index', 'prompt', 'reframed_question', 'question', 'answer', 'label'],\n",
       "        num_rows: 70000\n",
       "    })\n",
       "    validation: Dataset({\n",
       "        features: ['index', 'prompt', 'reframed_question', 'question', 'answer', 'label'],\n",
       "        num_rows: 5000\n",
       "    })\n",
       "    test: Dataset({\n",
       "        features: ['index', 'prompt', 'reframed_question', 'question', 'answer', 'label'],\n",
       "        num_rows: 60\n",
       "    })\n",
       "})"
      ]
     },
     "execution_count": 6,
     "metadata": {},
     "output_type": "execute_result"
    }
   ],
   "source": [
    "from datasets import DatasetDict, Dataset\n",
    "\n",
    "output_dataset = \".storage/data/smcq_dataset4\"\n",
    "\n",
    "reframed_questions = f\"{output_dataset}_{{}}.csv\"\n",
    "\n",
    "reframed_dataset = {}\n",
    "\n",
    "splits = [\"train\", \"validation\", \"test\"]\n",
    "for split in splits:\n",
    "  reframed_dataset[split] = Dataset.from_csv(reframed_questions.format(split))\n",
    "\n",
    "reframed_dataset = DatasetDict(reframed_dataset)\n",
    "reframed_dataset"
   ]
  },
  {
   "cell_type": "code",
   "execution_count": 7,
   "metadata": {},
   "outputs": [
    {
     "data": {
      "text/plain": [
       "DatasetDict({\n",
       "    train: Dataset({\n",
       "        features: ['question', 'answer', 'label'],\n",
       "        num_rows: 69083\n",
       "    })\n",
       "    validation: Dataset({\n",
       "        features: ['question', 'answer', 'label'],\n",
       "        num_rows: 4929\n",
       "    })\n",
       "    test: Dataset({\n",
       "        features: ['question', 'answer', 'label'],\n",
       "        num_rows: 47\n",
       "    })\n",
       "})"
      ]
     },
     "execution_count": 7,
     "metadata": {},
     "output_type": "execute_result"
    }
   ],
   "source": [
    "import re\n",
    "\n",
    "r_qst_pat = re.compile(r'F:\\s*\"(.+)\"$')\n",
    "\n",
    "def parse_question(example):\n",
    "  return r_qst_pat.search(example[\"question\"]) is not None\n",
    "\n",
    "for split in splits:\n",
    "  reframed_dataset[split] = reframed_dataset[split]\\\n",
    "    .remove_columns([\"index\", \"prompt\", \"question\"])\\\n",
    "    .rename_column(\"reframed_question\", \"question\")\\\n",
    "    .filter(parse_question, batched=False)\\\n",
    "    .map(lambda x: {**x, \"question\": r_qst_pat.search(x[\"question\"]).group(1)}, batched=False)\n",
    "  \n",
    "reframed_dataset"
   ]
  },
  {
   "cell_type": "code",
   "execution_count": 9,
   "metadata": {},
   "outputs": [
    {
     "name": "stderr",
     "output_type": "stream",
     "text": [
      "Saving the dataset (1/1 shards): 100%|██████████| 69083/69083 [00:00<00:00, 335075.00 examples/s]\n",
      "Saving the dataset (1/1 shards): 100%|██████████| 4929/4929 [00:00<00:00, 29996.70 examples/s]\n",
      "Saving the dataset (1/1 shards): 100%|██████████| 47/47 [00:00<00:00, 209.63 examples/s]\n",
      "Creating CSV from Arrow format: 100%|██████████| 70/70 [00:00<00:00, 324.02ba/s]\n",
      "Creating CSV from Arrow format: 100%|██████████| 5/5 [00:00<00:00, 289.91ba/s]\n",
      "Creating CSV from Arrow format: 100%|██████████| 1/1 [00:00<00:00, 1034.35ba/s]\n"
     ]
    }
   ],
   "source": [
    "reframed_dataset.save_to_disk(output_dataset)\n",
    "\n",
    "output_splits = f\"{output_dataset}/{{}}.csv\"\n",
    "\n",
    "for split in splits:\n",
    "  reframed_dataset[split].to_csv(output_splits.format(split))"
   ]
  },
  {
   "cell_type": "markdown",
   "metadata": {},
   "source": []
  }
 ],
 "metadata": {
  "kernelspec": {
   "display_name": ".venv",
   "language": "python",
   "name": "python3"
  },
  "language_info": {
   "codemirror_mode": {
    "name": "ipython",
    "version": 3
   },
   "file_extension": ".py",
   "mimetype": "text/x-python",
   "name": "python",
   "nbconvert_exporter": "python",
   "pygments_lexer": "ipython3",
   "version": "3.11.8"
  }
 },
 "nbformat": 4,
 "nbformat_minor": 2
}
